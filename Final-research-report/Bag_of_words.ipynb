{
 "cells": [
  {
   "cell_type": "code",
   "execution_count": 2,
   "id": "3b852b2a",
   "metadata": {},
   "outputs": [],
   "source": [
    "import json\n",
    "from matplotlib import pyplot as plt\n",
    "from collections import defaultdict\n",
    "from sklearn import linear_model\n",
    "import sklearn\n",
    "import numpy\n",
    "import random\n",
    "import gzip\n",
    "import math\n",
    "import warnings\n",
    "warnings.filterwarnings('ignore')\n",
    "import numpy          # linear algebra\n",
    "import urllib         # load data from the web\n",
    "import scipy.optimize # optimization routines\n",
    "import random         # random number generation\n",
    "import ast\n",
    "import string\n",
    "from nltk.corpus import stopwords\n",
    "import pandas as pd\n",
    "import matplotlib.pyplot as plt\n",
    "import math"
   ]
  },
  {
   "cell_type": "code",
   "execution_count": 3,
   "id": "0b3c8f2a",
   "metadata": {},
   "outputs": [],
   "source": [
    "def parseData(fname):\n",
    "  for l in urllib.urlopen(fname):\n",
    "    yield eval(l)\n",
    "    \n",
    "def parseDataFromFile(fname):\n",
    "  for l in open(fname):\n",
    "    #yield eval(l)`\n",
    "    yield ast.literal_eval(l)"
   ]
  },
  {
   "cell_type": "code",
   "execution_count": 4,
   "id": "305b2b39",
   "metadata": {},
   "outputs": [],
   "source": [
    "data = list(parseDataFromFile(\"ratebeerUnZip.json\"))"
   ]
  },
  {
   "cell_type": "code",
   "execution_count": 5,
   "id": "d731e949",
   "metadata": {},
   "outputs": [
    {
     "data": {
      "text/plain": [
       "{'beer/name': 'John Harvards Simcoe IPA',\n",
       " 'beer/beerId': '63836',\n",
       " 'beer/brewerId': '8481',\n",
       " 'beer/ABV': '5.4',\n",
       " 'beer/style': 'India Pale Ale &#40;IPA&#41;',\n",
       " 'review/appearance': '4/5',\n",
       " 'review/aroma': '6/10',\n",
       " 'review/palate': '3/5',\n",
       " 'review/taste': '6/10',\n",
       " 'review/overall': '13/20',\n",
       " 'review/time': '1157587200',\n",
       " 'review/profileName': 'hopdog',\n",
       " 'review/text': 'On tap at the Springfield, PA location. Poured a deep and cloudy orange (almost a copper) color with a small sized off white head. Aromas or oranges and all around citric. Tastes of oranges, light caramel and a very light grapefruit finish. I too would not believe the 80+ IBUs - I found this one to have a very light bitterness with a medium sweetness to it. Light lacing left on the glass.'}"
      ]
     },
     "execution_count": 5,
     "metadata": {},
     "output_type": "execute_result"
    }
   ],
   "source": [
    "data[0]"
   ]
  },
  {
   "cell_type": "code",
   "execution_count": 6,
   "id": "c3e45fbe",
   "metadata": {},
   "outputs": [
    {
     "data": {
      "text/plain": [
       "'On tap at the Springfield, PA location. Poured a deep and cloudy orange (almost a copper) color with a small sized off white head. Aromas or oranges and all around citric. Tastes of oranges, light caramel and a very light grapefruit finish. I too would not believe the 80+ IBUs - I found this one to have a very light bitterness with a medium sweetness to it. Light lacing left on the glass.'"
      ]
     },
     "execution_count": 6,
     "metadata": {},
     "output_type": "execute_result"
    }
   ],
   "source": [
    "data[0]['review/text']"
   ]
  },
  {
   "cell_type": "markdown",
   "id": "3264e9e5",
   "metadata": {},
   "source": [
    "# Isolating 50,000 data points from RateBeer data-set"
   ]
  },
  {
   "cell_type": "code",
   "execution_count": 7,
   "id": "9df1e8f4",
   "metadata": {},
   "outputs": [],
   "source": [
    "# data50000 = data[:50000]"
   ]
  },
  {
   "cell_type": "code",
   "execution_count": 8,
   "id": "593204b4",
   "metadata": {},
   "outputs": [],
   "source": [
    "data50000 = []\n",
    "top5 = ['India Pale Ale &#40;IPA&#41;','Pale Lager','Belgian Strong Ale','Imperial Stout','Imperial/Double IPA']\n",
    "# organize by top 5, beer/styles, we only want 50k datapoints within this criteria\n",
    "for i in range(0,50000):\n",
    "    if (data[i]['beer/style'] in top5):\n",
    "        data50000.append(data[i]) # add that data point (review)\n",
    "    "
   ]
  },
  {
   "cell_type": "code",
   "execution_count": 9,
   "id": "aff39c34",
   "metadata": {},
   "outputs": [],
   "source": [
    "wordCount = defaultdict(int)\n",
    "punctuation = set(string.punctuation)\n",
    "for d in data50000:\n",
    "    r = ''.join([c for c in d['review/text'].lower() if not c in punctuation])\n",
    "    for w in r.split():\n",
    "        wordCount[w] += 1\n",
    "\n",
    "counts = [(wordCount[w], w) for w in wordCount]\n",
    "counts.sort()\n",
    "counts.reverse()"
   ]
  },
  {
   "cell_type": "markdown",
   "id": "f714de14",
   "metadata": {},
   "source": [
    "# Removing stop-words from list of word-frequencies"
   ]
  },
  {
   "cell_type": "code",
   "execution_count": 10,
   "id": "6fab3947",
   "metadata": {},
   "outputs": [],
   "source": [
    "stopWords = stopwords.words('english')\n",
    "\n",
    "tempList = []\n",
    "for freq,wrd in counts:\n",
    "    #print(freq,wrd)\n",
    "    if (wrd not in stopWords):\n",
    "        tempList.append((freq,wrd)) # using .remove causes issues\n",
    "    \n",
    "#print(tempList)\n",
    "counts = tempList\n",
    "#print(counts)\n",
    "\n",
    "#print(stopwords.words('english'))"
   ]
  },
  {
   "cell_type": "code",
   "execution_count": 11,
   "id": "f67c60c8",
   "metadata": {},
   "outputs": [],
   "source": [
    "#print(counts)"
   ]
  },
  {
   "cell_type": "code",
   "execution_count": 12,
   "id": "8ed8148f",
   "metadata": {},
   "outputs": [],
   "source": [
    "NW = 1000 # dictionary size\n",
    "words = [x[1] for x in counts[:NW]]\n",
    "wordId = dict(zip(words, range(len(words))))\n",
    "wordSet = set(words)\n",
    "\n",
    "def feature(datum):\n",
    "    feat = [0]*len(words)\n",
    "    r = ''.join([c for c in datum['review/text'].lower() if not c in punctuation])\n",
    "    for w in r.split():\n",
    "        if w in wordSet:\n",
    "            feat[wordId[w]] += 1\n",
    "    feat.append(1) #offset\n",
    "    # feat[0]\n",
    "    return feat\n"
   ]
  },
  {
   "cell_type": "code",
   "execution_count": 23,
   "id": "87b7a95d",
   "metadata": {},
   "outputs": [],
   "source": [
    "#print(wordId)\n",
    "#print(counts) # holds words and their frequencies"
   ]
  },
  {
   "cell_type": "markdown",
   "id": "e6eec315",
   "metadata": {},
   "source": [
    "# Graphing 100 most common words"
   ]
  },
  {
   "cell_type": "code",
   "execution_count": 13,
   "id": "924a0a0e",
   "metadata": {},
   "outputs": [
    {
     "data": {
      "text/plain": [
       "[Text(0.5, 0, 'Frequency of word'), Text(0, 0.5, 'common words')]"
      ]
     },
     "execution_count": 13,
     "metadata": {},
     "output_type": "execute_result"
    },
    {
     "data": {
      "image/png": "[encoded data removed]",
      "text/plain": [
       "<Figure size 1080x720 with 1 Axes>"
      ]
     },
     "metadata": {
      "needs_background": "light"
     },
     "output_type": "display_data"
    }
   ],
   "source": [
    "# unable to completely graph all common words - limit our graph to 100 most commons.\n",
    "xplot = [freq for freq,letter in counts[:100]] # our NW is 1000, most common words\n",
    "yplot = [letter for freq,letter in counts[:100]]\n",
    "\n",
    "dfBag = pd.DataFrame(xplot,yplot)\n",
    "dfBag.head()\n",
    "barPlot = dfBag.plot.bar(stacked=False, title='100 most common words', rot='vertical', figsize=(15, 10));\n",
    "barPlot.set(xlabel=\"Frequency of word\", ylabel=\"common words\") "
   ]
  },
  {
   "cell_type": "markdown",
   "id": "f3d2bc06",
   "metadata": {},
   "source": [
    "# Top 10 most common words"
   ]
  },
  {
   "cell_type": "code",
   "execution_count": 14,
   "id": "77842d6e",
   "metadata": {},
   "outputs": [
    {
     "data": {
      "text/plain": [
       "[Text(0.5, 0, 'Frequency of word'), Text(0, 0.5, 'common words')]"
      ]
     },
     "execution_count": 14,
     "metadata": {},
     "output_type": "execute_result"
    },
    {
     "data": {
      "image/png": "[encoded data removed]",
      "text/plain": [
       "<Figure size 1080x720 with 1 Axes>"
      ]
     },
     "metadata": {
      "needs_background": "light"
     },
     "output_type": "display_data"
    }
   ],
   "source": [
    "xplot1 = [freq for freq,letter in counts[:10]] # our NW is 1000, most common words\n",
    "yplot1 = [letter for freq,letter in counts[:10]]\n",
    "\n",
    "dfBag10 = pd.DataFrame(xplot1,yplot1)\n",
    "dfBag10.head()\n",
    "barPlot1 = dfBag10.plot.bar(stacked=False, title='10 most common words', rot='vertical', figsize=(15, 10));\n",
    "barPlot1.set(xlabel=\"Frequency of word\", ylabel=\"common words\") "
   ]
  },
  {
   "cell_type": "code",
   "execution_count": 14,
   "id": "7b14deca",
   "metadata": {},
   "outputs": [],
   "source": [
    "# feature(data50000[0]) # w/ prints the feat[0] within feature()"
   ]
  },
  {
   "cell_type": "code",
   "execution_count": 15,
   "id": "a1d2e277",
   "metadata": {},
   "outputs": [],
   "source": [
    "X = [feature(d) for d in data50000]\n",
    "y = [d['beer/style'] for d in data50000] # beer/beerId\n",
    "# the key to model.fit running faster is changing to bag of words y-reference (beer/style etc...)\n",
    "\n",
    "# at c=10\n",
    "# the lower size the training data parameters are, the lower the accuracy\n",
    "a = 9     # 5,10 gives acc = 0.0? # 1,5 gives 0.0159   # 1,10 gives 0.032711111111111114\n",
    "b = 10    # 1,100 0.0008484848484848485 # 8,10 gives 0.0027 # 9,10 gives 0.0\n",
    "\n",
    "Xtrain = X[:a*len(X)//b] # larger sets just don't run fast at all (maybe because i have shit pc) #5k is fast asf\n",
    "ytrain = y[:a*len(y)//b]\n",
    "Xvalid = X[a*len(X)//b:]\n",
    "yvalid = y[a*len(y)//b:]"
   ]
  },
  {
   "cell_type": "code",
   "execution_count": 16,
   "id": "706361cf",
   "metadata": {},
   "outputs": [
    {
     "data": {
      "text/plain": [
       "10053"
      ]
     },
     "execution_count": 16,
     "metadata": {},
     "output_type": "execute_result"
    }
   ],
   "source": [
    "len(Xtrain)"
   ]
  },
  {
   "cell_type": "code",
   "execution_count": 17,
   "id": "8d8f6419",
   "metadata": {},
   "outputs": [
    {
     "data": {
      "text/plain": [
       "10053"
      ]
     },
     "execution_count": 17,
     "metadata": {},
     "output_type": "execute_result"
    }
   ],
   "source": [
    "len(ytrain)"
   ]
  },
  {
   "cell_type": "markdown",
   "id": "7e433833",
   "metadata": {},
   "source": [
    "# Logistic Regression model and accuracy calculation"
   ]
  },
  {
   "cell_type": "code",
   "execution_count": 18,
   "id": "6869342d",
   "metadata": {},
   "outputs": [],
   "source": [
    "mod = linear_model.LogisticRegression(C=0.1, class_weight='balanced')"
   ]
  },
  {
   "cell_type": "code",
   "execution_count": 19,
   "id": "bdd208e7",
   "metadata": {},
   "outputs": [
    {
     "data": {
      "text/plain": [
       "LogisticRegression(C=0.1, class_weight='balanced')"
      ]
     },
     "execution_count": 19,
     "metadata": {},
     "output_type": "execute_result"
    }
   ],
   "source": [
    "mod.fit(Xtrain, ytrain)"
   ]
  },
  {
   "cell_type": "code",
   "execution_count": 20,
   "id": "bad7d1aa",
   "metadata": {},
   "outputs": [
    {
     "data": {
      "text/plain": [
       "0.8658318425760286"
      ]
     },
     "execution_count": 20,
     "metadata": {},
     "output_type": "execute_result"
    }
   ],
   "source": [
    "pred = mod.predict(Xvalid)\n",
    "correct = pred == yvalid\n",
    "sum(correct) / len(correct)"
   ]
  },
  {
   "cell_type": "code",
   "execution_count": 21,
   "id": "c2ddd3d8",
   "metadata": {},
   "outputs": [
    {
     "data": {
      "text/plain": [
       "0.7093023255813954"
      ]
     },
     "execution_count": 21,
     "metadata": {},
     "output_type": "execute_result"
    }
   ],
   "source": [
    "# testing random forest\n",
    "from sklearn.ensemble import RandomForestClassifier\n",
    "modRF = RandomForestClassifier(n_estimators=1000)\n",
    "modRF.fit(Xtrain, ytrain)\n",
    "pred = modRF.predict(Xvalid)\n",
    "correct = pred == yvalid\n",
    "sum(correct) / len(correct)\n",
    "# floats around 0.7"
   ]
  },
  {
   "cell_type": "code",
   "execution_count": null,
   "id": "2593980a",
   "metadata": {},
   "outputs": [],
   "source": []
  },
  {
   "cell_type": "code",
   "execution_count": null,
   "id": "6903509a",
   "metadata": {},
   "outputs": [],
   "source": []
  }
 ],
 "metadata": {
  "kernelspec": {
   "display_name": "Python 3 (ipykernel)",
   "language": "python",
   "name": "python3"
  },
  "language_info": {
   "codemirror_mode": {
    "name": "ipython",
    "version": 3
   },
   "file_extension": ".py",
   "mimetype": "text/x-python",
   "name": "python",
   "nbconvert_exporter": "python",
   "pygments_lexer": "ipython3",
   "version": "3.9.12"
  }
 },
 "nbformat": 4,
 "nbformat_minor": 5
}
