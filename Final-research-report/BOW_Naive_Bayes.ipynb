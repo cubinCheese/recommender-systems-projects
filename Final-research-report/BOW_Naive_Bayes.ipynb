{
 "cells": [
  {
   "cell_type": "code",
   "execution_count": null,
   "metadata": {},
   "outputs": [],
   "source": []
  },
  {
   "cell_type": "code",
   "execution_count": 9,
   "metadata": {},
   "outputs": [],
   "source": [
    "import json\n",
    "from matplotlib import pyplot as plt\n",
    "from collections import defaultdict\n",
    "from sklearn import linear_model\n",
    "import sklearn\n",
    "import numpy\n",
    "import random\n",
    "import gzip\n",
    "import math\n",
    "import warnings\n",
    "warnings.filterwarnings('ignore')\n",
    "import numpy          # linear algebra\n",
    "import urllib         # load data from the web\n",
    "import scipy.optimize # optimization routines\n",
    "import random         # random number generation\n",
    "import ast\n",
    "import string\n",
    "from nltk.corpus import stopwords\n",
    "import pandas as pd\n",
    "import matplotlib.pyplot as plt"
   ]
  },
  {
   "cell_type": "code",
   "execution_count": 10,
   "metadata": {},
   "outputs": [],
   "source": [
    "def readGz(path):\n",
    "    i = 0\n",
    "    for l in gzip.open(path, 'rt'):\n",
    "        if i < 500000:\n",
    "            yield eval(l)\n",
    "            i += 1"
   ]
  },
  {
   "cell_type": "code",
   "execution_count": 11,
   "metadata": {},
   "outputs": [],
   "source": [
    "data = []\n",
    "\n",
    "for d in readGz(\"ratebeer.json.gz\"):\n",
    "    data.append(d)"
   ]
  },
  {
   "cell_type": "code",
   "execution_count": 12,
   "metadata": {},
   "outputs": [
    {
     "data": {
      "text/plain": [
       "'India Pale Ale &#40;IPA&#41;'"
      ]
     },
     "execution_count": 12,
     "metadata": {},
     "output_type": "execute_result"
    }
   ],
   "source": [
    "data[1]['beer/style']"
   ]
  },
  {
   "cell_type": "code",
   "execution_count": 13,
   "metadata": {},
   "outputs": [],
   "source": [
    "\n",
    "data50000 = []\n",
    "top5 = ['India Pale Ale &#40;IPA&#41','Pale Lager','Belgian Strong Ale','Imperial Stout','Imperial/Double IPA']\n",
    "# organize by top 5, beer/styles, we only want 50k datapoints within this criteria\n",
    "for i in range(0,50000):\n",
    "    if (data[i]['beer/style'] in top5):\n",
    "        data50000.append(data[i]) # add that data point (review)"
   ]
  },
  {
   "cell_type": "code",
   "execution_count": 14,
   "metadata": {},
   "outputs": [],
   "source": [
    "wordCount = defaultdict(int)\n",
    "punctuation = set(string.punctuation)\n",
    "for d in data50000:\n",
    "    r = ''.join([c for c in d['review/text'].lower() if not c in punctuation])\n",
    "    for w in r.split():\n",
    "        wordCount[w] += 1\n",
    "\n",
    "counts = [(wordCount[w], w) for w in wordCount]\n",
    "counts.sort()\n",
    "counts.reverse()"
   ]
  },
  {
   "cell_type": "code",
   "execution_count": 16,
   "metadata": {},
   "outputs": [
    {
     "name": "stderr",
     "output_type": "stream",
     "text": [
      "[nltk_data] Downloading package stopwords to\n",
      "[nltk_data]     /Users/akhil3rain/nltk_data...\n",
      "[nltk_data]   Package stopwords is already up-to-date!\n"
     ]
    },
    {
     "data": {
      "text/plain": [
       "True"
      ]
     },
     "execution_count": 16,
     "metadata": {},
     "output_type": "execute_result"
    }
   ],
   "source": [
    "import nltk\n",
    "nltk.download('stopwords')"
   ]
  },
  {
   "cell_type": "code",
   "execution_count": 17,
   "metadata": {},
   "outputs": [],
   "source": [
    "stopWords = stopwords.words('english')\n",
    "\n",
    "tempList = []\n",
    "for freq,wrd in counts:\n",
    "    #print(freq,wrd)\n",
    "    if (wrd not in stopWords):\n",
    "        tempList.append((freq,wrd)) # using .remove causes issues\n",
    "    \n",
    "#print(tempList)\n",
    "counts = tempList\n",
    "#print(counts)\n"
   ]
  },
  {
   "cell_type": "code",
   "execution_count": 18,
   "metadata": {},
   "outputs": [],
   "source": [
    "NW = 1000 # dictionary size\n",
    "words = [x[1] for x in counts[:NW]]\n",
    "wordId = dict(zip(words, range(len(words))))\n",
    "wordSet = set(words)\n",
    "\n",
    "def feature(datum):\n",
    "    feat = [0]*len(words)\n",
    "    r = ''.join([c for c in datum['review/text'].lower() if not c in punctuation])\n",
    "    for w in r.split():\n",
    "        if w in wordSet:\n",
    "            feat[wordId[w]] += 1\n",
    "    feat.append(1) #offset\n",
    "    # feat[0]\n",
    "    return feat"
   ]
  },
  {
   "cell_type": "code",
   "execution_count": 19,
   "metadata": {},
   "outputs": [],
   "source": [
    "X = [feature(d) for d in data50000]\n",
    "y = [d['beer/style'] for d in data50000] # beer/beerId\n",
    "# the key to model.fit running faster is changing to bag of words y-reference (beer/style etc...)\n",
    "\n",
    "# at c=10\n",
    "# the lower size the training data parameters are, the lower the accuracy\n",
    "a = 9     # 5,10 gives acc = 0.0? # 1,5 gives 0.0159   # 1,10 gives 0.032711111111111114\n",
    "b = 10    # 1,100 0.0008484848484848485 # 8,10 gives 0.0027 # 9,10 gives 0.0\n",
    "\n",
    "Xtrain = X[:a*len(X)//b] # larger sets just don't run fast at all (maybe because i have shit pc) #5k is fast asf\n",
    "ytrain = y[:a*len(y)//b]\n",
    "Xvalid = X[a*len(X)//b:]\n",
    "yvalid = y[a*len(y)//b:]"
   ]
  },
  {
   "cell_type": "code",
   "execution_count": 20,
   "metadata": {},
   "outputs": [
    {
     "data": {
      "text/plain": [
       "7101"
      ]
     },
     "execution_count": 20,
     "metadata": {},
     "output_type": "execute_result"
    }
   ],
   "source": [
    "len(Xtrain)"
   ]
  },
  {
   "cell_type": "code",
   "execution_count": 21,
   "metadata": {},
   "outputs": [
    {
     "data": {
      "text/plain": [
       "7101"
      ]
     },
     "execution_count": 21,
     "metadata": {},
     "output_type": "execute_result"
    }
   ],
   "source": [
    "len(Xtrain)"
   ]
  },
  {
   "cell_type": "code",
   "execution_count": 28,
   "metadata": {},
   "outputs": [],
   "source": [
    "from sklearn.naive_bayes import GaussianNB\n",
    "import math\n",
    "#Create a Gaussian Classifier\n",
    "model = GaussianNB(var_smoothing = math.log(2))\n",
    "\n",
    "# Train the model using the training sets\n",
    "model.fit(Xtrain,ytrain)\n",
    "\n",
    "#Predict Output\n",
    "predicted= model.predict(Xvalid) "
   ]
  },
  {
   "cell_type": "code",
   "execution_count": 30,
   "metadata": {},
   "outputs": [
    {
     "data": {
      "text/plain": [
       "0.8694550063371356"
      ]
     },
     "execution_count": 30,
     "metadata": {},
     "output_type": "execute_result"
    }
   ],
   "source": [
    "correct = predicted == yvalid\n",
    "sum(correct) / len(correct)"
   ]
  },
  {
   "cell_type": "code",
   "execution_count": null,
   "metadata": {},
   "outputs": [],
   "source": []
  }
 ],
 "metadata": {
  "kernelspec": {
   "display_name": "Python 3",
   "language": "python",
   "name": "python3"
  },
  "language_info": {
   "codemirror_mode": {
    "name": "ipython",
    "version": 3
   },
   "file_extension": ".py",
   "mimetype": "text/x-python",
   "name": "python",
   "nbconvert_exporter": "python",
   "pygments_lexer": "ipython3",
   "version": "3.7.6"
  }
 },
 "nbformat": 4,
 "nbformat_minor": 4
}
